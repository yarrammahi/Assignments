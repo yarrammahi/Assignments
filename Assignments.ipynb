{
 "cells": [
  {
   "cell_type": "code",
   "execution_count": 22,
   "id": "4251ffcb",
   "metadata": {},
   "outputs": [
    {
     "name": "stdout",
     "output_type": "stream",
     "text": [
      "Enter the number of people:50\n",
      "Enter No.Of.seats per bus:10\n",
      "The Number Of Buses Required: 5.0\n"
     ]
    }
   ],
   "source": [
    "\"\"\"\n",
    "1.\tTake the input from the user for(Total number of people,Number of seats for bus. Based on two inputs\n",
    "Decide how many number of buses required\n",
    "\n",
    "\"\"\"\n",
    "a=input(\"Enter the number of people:\")\n",
    "b=input(\"Enter No.Of.seats per bus:\")\n",
    "c=float(a)/float(b)\n",
    "print(\"The Number Of Buses Required:\",c)"
   ]
  },
  {
   "cell_type": "code",
   "execution_count": 6,
   "id": "d6f2817e",
   "metadata": {},
   "outputs": [
    {
     "name": "stdout",
     "output_type": "stream",
     "text": [
      "Enter The Temp:34\n",
      "In The Celsius: 1.1111111111111112\n"
     ]
    }
   ],
   "source": [
    "\"\"\"\n",
    "2.take temperature from the user and convert foreign heat -> Celsius.\n",
    "\"\"\"\n",
    "temp=input(\"Enter The Temp:\")\n",
    "temp=float(temp)\n",
    "cel=(temp-32)*5/9\n",
    "print(\"In The Celsius:\",cel)"
   ]
  },
  {
   "cell_type": "code",
   "execution_count": 11,
   "id": "7af4a1cf",
   "metadata": {},
   "outputs": [
    {
     "name": "stdout",
     "output_type": "stream",
     "text": [
      "Enter the celsius:3\n",
      "in the temp: 34.0\n"
     ]
    }
   ],
   "source": [
    "\"\"\"\n",
    "3.take temperature from the user and convert Celsius → foreign heat.\n",
    "\"\"\"\n",
    "Cel=input(\"Enter the celsius:\")\n",
    "cel=float(cel)\n",
    "Temp=(cel*(9/5))+32\n",
    "print(\"in the temp:\",Temp)"
   ]
  },
  {
   "cell_type": "code",
   "execution_count": 25,
   "id": "63f8e955",
   "metadata": {},
   "outputs": [
    {
     "name": "stdout",
     "output_type": "stream",
     "text": [
      "x1:4\n",
      "x2:5\n",
      "x3:6\n",
      "x4:7\n",
      "Observation 1: 81.0\n",
      "Observation 2: 2197.0\n",
      "varience 1.25\n",
      "standard Deviation: 1.118033988749895\n",
      "Y=: 27.105\n",
      "Average is: 5.5\n",
      "sum is: 22.0\n"
     ]
    }
   ],
   "source": [
    "\"\"\"\n",
    "    4.take four number from the user (variables name it as x1,x2,x3,x4)\n",
    " Do the below operations\n",
    " (x1+x2)**2, (x3+x4)**3\n",
    "variance\n",
    "standard deviation: sqrt(variance):  User math module. Math.sqrt(variance)\n",
    "Regression\n",
    "\ty=mx+b\n",
    "          m=1.23\n",
    "          b=0.045\n",
    "          find out y\n",
    "          y=m*(x1+x2+x3+x4)+b\n",
    " Find the average of four numbers\n",
    "Find the sum of four numbers\n",
    "\"\"\"\n",
    "import math\n",
    "x1=input(\"x1:\")\n",
    "x2=input(\"x2:\")\n",
    "x3=input(\"x3:\")\n",
    "x4=input(\"x4:\")\n",
    "x1=float(x1)\n",
    "x2=float(x2)\n",
    "x3=float(x3)\n",
    "x4=float(x4)\n",
    "ob1=(x1+x2)**2\n",
    "ob2=(x3+x4)**3\n",
    "print(\"Observation 1:\",ob1)\n",
    "print(\"Observation 2:\",ob2)\n",
    "data=[x1,x2,x3,x4]\n",
    "n=len(data)\n",
    "mean=sum(data)/n\n",
    "dev=[(x - mean) ** 2 for x in data]\n",
    "var=sum(dev)/n\n",
    "print(\"varience\",var)\n",
    "std_dev=math.sqrt(var)\n",
    "print(\"standard Deviation:\",std_dev)\n",
    "m=1.23\n",
    "b=0.045\n",
    "y=m*(sum(data))+b\n",
    "print(\"Y=:\",y)\n",
    "print(\"Average is:\",mean)\n",
    "print(\"sum is:\",sum(data))"
   ]
  },
  {
   "cell_type": "code",
   "execution_count": 18,
   "id": "dccab270",
   "metadata": {},
   "outputs": [
    {
     "name": "stdout",
     "output_type": "stream",
     "text": [
      "Enter the KM:45\n",
      "In Centimeters: 4500000.0 cm\n",
      "In Meters: 45000.0 m\n",
      "In MilliMeters: 45000000.0 mm\n",
      "In Cents: 1111973.4 cents\n",
      "In feets: 147637.80000000002 ft\n",
      "In Yards: 49212.45 yards\n"
     ]
    }
   ],
   "source": [
    "\"\"\"\n",
    "   5.Take the distance in km\n",
    "    \tShow that in cm, meters, in milli meters, cents, feets, yards\n",
    "\n",
    "\"\"\"\n",
    "km=input(\"Enter the KM:\")\n",
    "km=float(km)\n",
    "cm=km*100000\n",
    "M=km*1000\n",
    "MM=km*1000000\n",
    "cents=km*24710.52\n",
    "feets=km*3280.84\n",
    "yards=km*1093.61\n",
    "print(\"In Centimeters:\",cm, \"cm\")\n",
    "print(\"In Meters:\",M,\"m\")\n",
    "print(\"In MilliMeters:\",MM,\"mm\")\n",
    "print(\"In Cents:\",cents,\"cents\")\n",
    "print(\"In feets:\",feets,\"ft\")\n",
    "print(\"In Yards:\",yards,\"yards\")"
   ]
  },
  {
   "cell_type": "code",
   "execution_count": 19,
   "id": "398e3860",
   "metadata": {},
   "outputs": [
    {
     "name": "stdout",
     "output_type": "stream",
     "text": [
      "Enter the GB:3\n",
      "In MB: 3000.0 mb\n",
      "In KB: 3000000.0 kb\n",
      "In TB: 0.003 tb\n",
      "In PB: 3e-06 pb\n"
     ]
    }
   ],
   "source": [
    "\"\"\"\n",
    "   6.Take the size of your hard disk in GB\n",
    "     \tShow that in MB, KB, TB, PB\n",
    "\n",
    "\"\"\"\n",
    "gb=input(\"Enter the GB:\")\n",
    "gb=float(gb)\n",
    "mb=gb*1000\n",
    "kb=gb*1000000\n",
    "tb=gb*0.001\n",
    "pb=gb*1e-6\n",
    "print(\"In MB:\",mb,\"mb\")\n",
    "print(\"In KB:\",kb,\"kb\")\n",
    "print(\"In TB:\",tb,\"tb\")\n",
    "print(\"In PB:\",pb,\"pb\")"
   ]
  }
 ],
 "metadata": {
  "kernelspec": {
   "display_name": "Python 3 (ipykernel)",
   "language": "python",
   "name": "python3"
  },
  "language_info": {
   "codemirror_mode": {
    "name": "ipython",
    "version": 3
   },
   "file_extension": ".py",
   "mimetype": "text/x-python",
   "name": "python",
   "nbconvert_exporter": "python",
   "pygments_lexer": "ipython3",
   "version": "3.9.7"
  }
 },
 "nbformat": 4,
 "nbformat_minor": 5
}
